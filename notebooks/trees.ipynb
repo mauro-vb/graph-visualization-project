{
 "cells": [
  {
   "cell_type": "code",
   "execution_count": 36,
   "id": "1681891c",
   "metadata": {},
   "outputs": [],
   "source": [
    "import matplotlib.pyplot as plt\n",
    "from matplotlib.patches import Circle, ConnectionPatch"
   ]
  },
  {
   "cell_type": "code",
   "execution_count": 2,
   "id": "0bce5c1f",
   "metadata": {},
   "outputs": [
    {
     "data": {
      "image/png": "[encoded data removed]",
      "text/plain": [
       "<Figure size 640x480 with 1 Axes>"
      ]
     },
     "metadata": {},
     "output_type": "display_data"
    }
   ],
   "source": [
    "plt.grid(visible=None, which='major', axis='both')\n",
    "plt.show()"
   ]
  },
  {
   "cell_type": "code",
   "execution_count": 19,
   "id": "b1c12a38",
   "metadata": {},
   "outputs": [],
   "source": [
    "def compute_bfs_tree(nodes, root):\n",
    "    \n",
    "    visited = set()  # for storing visited nodes\n",
    "    parent = {}  # for storing parent nodes\n",
    "    q = [start]  # for storing nodes to be visited\n",
    "    visited.add(root)  # mark the start node as visited\n",
    "\n",
    "    while q:  # while the queue Q is not empty, continue the traversal\n",
    "        current_node = q.pop(0)  # dequeue current node\n",
    "        for neighbor in g[current_node]:  # loop over neighbors of current node\n",
    "            \n",
    "            \n",
    "            if neighbor not in visited:  # if neighbor has not been visited\n",
    "                q.append(neighbor)  # enqueue neighbor\n",
    "                visited.add(neighbor)  # mark neighbor as visited\n",
    "                parent[neighbor] = current_node  # set current node as parent of neighbor\n",
    "\n",
    "    return parent  # return the tree structure\n",
    "\n",
    "\n",
    "def compute_dfs_tree(nodes, root):\n",
    "    visited = set()  # for storing visited nodes\n",
    "    parent = {}\n",
    "    \n",
    "    def dfs(g, root):\n",
    "        if root not in visited:\n",
    "            visited.add(root)\n",
    "            for n in g[root]: \n",
    "                parent[n] = root # set 'root' as parent\n",
    "                dfs(g, n) # recursive call to go into depth for each neighboring node\n",
    "                \n",
    "    dfs(g,root)\n",
    "                \n",
    "    return parent"
   ]
  },
  {
   "cell_type": "code",
   "execution_count": 20,
   "id": "b26572d6",
   "metadata": {},
   "outputs": [
    {
     "data": {
      "text/plain": [
       "{'3': '5', '2': '3', '5': '2', '4': '3', '8': '7', '7': '5'}"
      ]
     },
     "execution_count": 20,
     "metadata": {},
     "output_type": "execute_result"
    }
   ],
   "source": [
    "compute_dfs_tree(graph, '5')"
   ]
  },
  {
   "cell_type": "markdown",
   "id": "cd7d8f75",
   "metadata": {},
   "source": [
    "One standard way to get a BFS tree from a graph is to run BFS and, as you do so, keep a table mapping each node in the graph to its parent in the tree. You populate it as follows: the source node has no parent (it's the root, after all). Then, whenever you're processing a node u and explore one of its unexplored neighbors v, you set v's parent to be u. Try tracing this out on some small examples and you'll see that this implicitly builds up the tree, except with the edges going backwards (edges point from children up to parents rather than the other way around). You can then just reverse the edges to get back the BFS tree."
   ]
  },
  {
   "cell_type": "code",
   "execution_count": 42,
   "id": "0a2b07f9",
   "metadata": {},
   "outputs": [
    {
     "ename": "AttributeError",
     "evalue": "'BinaryTreeNode' object has no attribute 'coordinates'",
     "output_type": "error",
     "traceback": [
      "\u001b[0;31m---------------------------------------------------------------------------\u001b[0m",
      "\u001b[0;31mAttributeError\u001b[0m                            Traceback (most recent call last)",
      "Cell \u001b[0;32mIn [42], line 10\u001b[0m\n\u001b[1;32m      1\u001b[0m graph \u001b[38;5;241m=\u001b[39m {\n\u001b[1;32m      2\u001b[0m   \u001b[38;5;124m'\u001b[39m\u001b[38;5;124m5\u001b[39m\u001b[38;5;124m'\u001b[39m : [\u001b[38;5;124m'\u001b[39m\u001b[38;5;124m3\u001b[39m\u001b[38;5;124m'\u001b[39m,\u001b[38;5;124m'\u001b[39m\u001b[38;5;124m7\u001b[39m\u001b[38;5;124m'\u001b[39m],\n\u001b[1;32m      3\u001b[0m   \u001b[38;5;124m'\u001b[39m\u001b[38;5;124m3\u001b[39m\u001b[38;5;124m'\u001b[39m : [\u001b[38;5;124m'\u001b[39m\u001b[38;5;124m2\u001b[39m\u001b[38;5;124m'\u001b[39m, \u001b[38;5;124m'\u001b[39m\u001b[38;5;124m4\u001b[39m\u001b[38;5;124m'\u001b[39m],\n\u001b[0;32m   (...)\u001b[0m\n\u001b[1;32m      7\u001b[0m   \u001b[38;5;124m'\u001b[39m\u001b[38;5;124m8\u001b[39m\u001b[38;5;124m'\u001b[39m : []\n\u001b[1;32m      8\u001b[0m }\n\u001b[1;32m      9\u001b[0m tree\u001b[38;5;241m=\u001b[39mconvert_to_binary_tree(graph, \u001b[38;5;124m'\u001b[39m\u001b[38;5;124m5\u001b[39m\u001b[38;5;124m'\u001b[39m,\u001b[38;5;124m'\u001b[39m\u001b[38;5;124mbfs\u001b[39m\u001b[38;5;124m'\u001b[39m)\n\u001b[0;32m---> 10\u001b[0m tree\u001b[38;5;241m.\u001b[39mgenerate_coordinates()\n\u001b[1;32m     11\u001b[0m tree\u001b[38;5;241m.\u001b[39mdraw_tree()\n",
      "Cell \u001b[0;32mIn [41], line 41\u001b[0m, in \u001b[0;36mBinaryTreeNode.generate_coordinates\u001b[0;34m(self)\u001b[0m\n\u001b[1;32m     39\u001b[0m     \u001b[38;5;66;03m# Traverse right subtree\u001b[39;00m\n\u001b[1;32m     40\u001b[0m     inorder(root\u001b[38;5;241m.\u001b[39mright, c)\n\u001b[0;32m---> 41\u001b[0m \u001b[43minorder\u001b[49m\u001b[43m(\u001b[49m\u001b[38;5;28;43mself\u001b[39;49m\u001b[43m,\u001b[49m\u001b[43m \u001b[49m\u001b[43mc\u001b[49m\u001b[43m)\u001b[49m\n",
      "Cell \u001b[0;32mIn [41], line 35\u001b[0m, in \u001b[0;36mBinaryTreeNode.generate_coordinates.<locals>.inorder\u001b[0;34m(root, c)\u001b[0m\n\u001b[1;32m     33\u001b[0m     \u001b[38;5;28;01mreturn\u001b[39;00m\n\u001b[1;32m     34\u001b[0m \u001b[38;5;66;03m# Traverse left subtree\u001b[39;00m\n\u001b[0;32m---> 35\u001b[0m \u001b[43minorder\u001b[49m\u001b[43m(\u001b[49m\u001b[43mroot\u001b[49m\u001b[38;5;241;43m.\u001b[39;49m\u001b[43mleft\u001b[49m\u001b[43m,\u001b[49m\u001b[43m \u001b[49m\u001b[43mc\u001b[49m\u001b[43m)\u001b[49m\n\u001b[1;32m     36\u001b[0m \u001b[38;5;66;03m#\u001b[39;00m\n\u001b[1;32m     37\u001b[0m root\u001b[38;5;241m.\u001b[39mcoordinates[\u001b[38;5;241m0\u001b[39m] \u001b[38;5;241m=\u001b[39m c, root\u001b[38;5;241m.\u001b[39mget_level()\n",
      "Cell \u001b[0;32mIn [41], line 35\u001b[0m, in \u001b[0;36mBinaryTreeNode.generate_coordinates.<locals>.inorder\u001b[0;34m(root, c)\u001b[0m\n\u001b[1;32m     33\u001b[0m     \u001b[38;5;28;01mreturn\u001b[39;00m\n\u001b[1;32m     34\u001b[0m \u001b[38;5;66;03m# Traverse left subtree\u001b[39;00m\n\u001b[0;32m---> 35\u001b[0m \u001b[43minorder\u001b[49m\u001b[43m(\u001b[49m\u001b[43mroot\u001b[49m\u001b[38;5;241;43m.\u001b[39;49m\u001b[43mleft\u001b[49m\u001b[43m,\u001b[49m\u001b[43m \u001b[49m\u001b[43mc\u001b[49m\u001b[43m)\u001b[49m\n\u001b[1;32m     36\u001b[0m \u001b[38;5;66;03m#\u001b[39;00m\n\u001b[1;32m     37\u001b[0m root\u001b[38;5;241m.\u001b[39mcoordinates[\u001b[38;5;241m0\u001b[39m] \u001b[38;5;241m=\u001b[39m c, root\u001b[38;5;241m.\u001b[39mget_level()\n",
      "Cell \u001b[0;32mIn [41], line 37\u001b[0m, in \u001b[0;36mBinaryTreeNode.generate_coordinates.<locals>.inorder\u001b[0;34m(root, c)\u001b[0m\n\u001b[1;32m     35\u001b[0m inorder(root\u001b[38;5;241m.\u001b[39mleft, c)\n\u001b[1;32m     36\u001b[0m \u001b[38;5;66;03m#\u001b[39;00m\n\u001b[0;32m---> 37\u001b[0m \u001b[43mroot\u001b[49m\u001b[38;5;241;43m.\u001b[39;49m\u001b[43mcoordinates\u001b[49m[\u001b[38;5;241m0\u001b[39m] \u001b[38;5;241m=\u001b[39m c, root\u001b[38;5;241m.\u001b[39mget_level()\n\u001b[1;32m     38\u001b[0m c \u001b[38;5;241m+\u001b[39m\u001b[38;5;241m=\u001b[39m \u001b[38;5;241m1\u001b[39m\n\u001b[1;32m     39\u001b[0m \u001b[38;5;66;03m# Traverse right subtree\u001b[39;00m\n",
      "\u001b[0;31mAttributeError\u001b[0m: 'BinaryTreeNode' object has no attribute 'coordinates'"
     ]
    }
   ],
   "source": [
    "graph = {\n",
    "  '5' : ['3','7'],\n",
    "  '3' : ['2', '4'],\n",
    "  '7' : ['8'],\n",
    "  '2' : [],\n",
    "  '4' : ['8'],\n",
    "  '8' : []\n",
    "}\n",
    "tree=convert_to_binary_tree(graph, '5','bfs')\n",
    "tree.generate_coordinates()\n",
    "tree.draw_tree()"
   ]
  },
  {
   "cell_type": "code",
   "execution_count": 41,
   "id": "3b3e6bef",
   "metadata": {},
   "outputs": [],
   "source": [
    "\n",
    "class Node:\n",
    "    def __init__(self, label):\n",
    "        self.label = label\n",
    "        self.coordinates : tuple\n",
    "        self.neighbours = [] # adjacency_list\n",
    "        self.weights = {} # store weight values in dictionary {node_labe: weight}\n",
    "\n",
    "    def add_neighbour(self, new_neighbour):\n",
    "        self.neighbours.append(new_neighbour)\n",
    "\n",
    "class BinaryTreeNode(Node):\n",
    "    def __init__(self, label):\n",
    "        super().__init__(label)\n",
    "        self.left = None\n",
    "        self.right = None\n",
    "        self.parent = None\n",
    "\n",
    "        self.horizontal_displacement = 0\n",
    "        self.level = 0\n",
    "    \n",
    "    def get_level(self): # count number of parents above self\n",
    "        self.level = 0\n",
    "        current_parent = self.parent\n",
    "        while current_parent: # while parent exists\n",
    "            current_parent = current_parent.parent # check parent of parent recursively\n",
    "            self.level += 1 # increase level count\n",
    "        return self.level\n",
    "    \n",
    "    def generate_coordinates(self):\n",
    "        c = 0\n",
    "        def inorder(root,c):\n",
    "            if root is None:\n",
    "                return\n",
    "            # Traverse left subtree\n",
    "            inorder(root.left, c)\n",
    "            #\n",
    "            root.coordinates[0] = c, root.get_level()\n",
    "            c += 1\n",
    "            # Traverse right subtree\n",
    "            inorder(root.right, c)\n",
    "        inorder(self, c)\n",
    "        \n",
    "    def print_tree(self):\n",
    "        spaces = ' ' * self.get_level() * 3\n",
    "        prefix = spaces + \"|__\" if self.parent else \"\"\n",
    "\n",
    "        print(prefix + self.label)\n",
    "        if self.left or self.right:\n",
    "            if self.left:\n",
    "                self.left.print_tree()\n",
    "            if self.right:\n",
    "                self.right.print_tree()\n",
    "    \n",
    "    def draw_tree(self):\n",
    "        fig = plt.figure(figsize=(5,5))\n",
    "        plt.grid(visible=None, which='major', axis='both')\n",
    "        ax = fig.gca()\n",
    "        \n",
    "\n",
    "        ax.add_patch(Circle(xy=self.coordinates, radius= .5, color = 'green', alpha=.5))\n",
    "        \n",
    "        if self.left or self.right:\n",
    "            if self.left:\n",
    "                self.left.draw_tree()\n",
    "            if self.right:\n",
    "                self.right.draw_tree()\n",
    "                \n",
    "            \n",
    "    \n",
    "        \n",
    "def convert_to_binary_tree(graph, start_node, method='bfs'):\n",
    "    if method.lower() == 'bfs':\n",
    "        return bfs(graph, start_node)\n",
    "    elif method.lower() == 'dfs':\n",
    "        return dfs(graph, start_node)\n",
    "    else:\n",
    "        raise ValueError(\"Invalid method. Choose either 'bfs' or 'dfs'.\")\n",
    "\n",
    "def bfs(graph, start_node):\n",
    "    root = BinaryTreeNode(start_node)\n",
    "    queue = [root]  # Initialize the queue with the root\n",
    "    visited = set([start_node])\n",
    "\n",
    "    while queue:\n",
    "        current_node = queue.pop(0)\n",
    "        for neighbor in graph[current_node.label]:\n",
    "            if neighbor not in visited:\n",
    "                visited.add(neighbor)\n",
    "                new_node = BinaryTreeNode(neighbor)\n",
    "                if current_node.left is None:\n",
    "                    current_node.left = new_node\n",
    "                    new_node.parent = current_node\n",
    "                else:\n",
    "                    current_node.right = new_node\n",
    "                    new_node.parent = current_node\n",
    "\n",
    "                queue.append(new_node)\n",
    "\n",
    "    return root\n",
    "\n",
    "def dfs(graph, node_label, parent=None):\n",
    "    root = BinaryTreeNode(node_label)\n",
    "    for neighbor in graph[node_label]:\n",
    "        if parent and neighbor == parent.label:\n",
    "            continue\n",
    "        if not parent:\n",
    "            parent = root\n",
    "        if not parent.left:\n",
    "            parent.left = dfs(graph, neighbor, root)\n",
    "        elif not parent.right:\n",
    "            parent.right = dfs(graph, neighbor, root)\n",
    "    return root\n",
    "\n",
    "def get_inordered_nodes(root):\n",
    "    inordered_nodes = []\n",
    "    def inorder(root):\n",
    "        if root is None:\n",
    "            return\n",
    "        # Traverse left subtree\n",
    "        inorder(root.left)\n",
    "        # \"visit root\" add to dict\n",
    "        inordered_nodes.append(root)\n",
    "        # Traverse right subtree\n",
    "        inorder(root.right)\n",
    "    inorder(root)\n",
    "    return inordered_nodes"
   ]
  },
  {
   "cell_type": "code",
   "execution_count": null,
   "id": "6facfa59",
   "metadata": {},
   "outputs": [],
   "source": [
    "tree."
   ]
  },
  {
   "cell_type": "code",
   "execution_count": 28,
   "id": "18d70eb9",
   "metadata": {},
   "outputs": [],
   "source": [
    "inordered_nodes = get_inordered_nodes(tree)"
   ]
  },
  {
   "cell_type": "code",
   "execution_count": 32,
   "id": "3568726e",
   "metadata": {},
   "outputs": [
    {
     "data": {
      "text/plain": [
       "<matplotlib.collections.PathCollection at 0x10fb2f670>"
      ]
     },
     "execution_count": 32,
     "metadata": {},
     "output_type": "execute_result"
    },
    {
     "data": {
      "image/png": "[encoded data removed]",
      "text/plain": [
       "<Figure size 640x480 with 1 Axes>"
      ]
     },
     "metadata": {},
     "output_type": "display_data"
    }
   ],
   "source": [
    "xs, ys = [], []\n",
    "for i, node in enumerate(inordered_nodes):\n",
    "    xs.append(i)\n",
    "    ys.append(-node.get_level())\n",
    "    \n",
    "plt.scatter(xs, ys)"
   ]
  },
  {
   "cell_type": "code",
   "execution_count": null,
   "id": "da7fe245",
   "metadata": {},
   "outputs": [],
   "source": []
  }
 ],
 "metadata": {
  "kernelspec": {
   "display_name": "Python 3 (ipykernel)",
   "language": "python",
   "name": "python3"
  },
  "language_info": {
   "codemirror_mode": {
    "name": "ipython",
    "version": 3
   },
   "file_extension": ".py",
   "mimetype": "text/x-python",
   "name": "python",
   "nbconvert_exporter": "python",
   "pygments_lexer": "ipython3",
   "version": "3.10.6"
  },
  "toc": {
   "base_numbering": 1,
   "nav_menu": {},
   "number_sections": true,
   "sideBar": true,
   "skip_h1_title": false,
   "title_cell": "Table of Contents",
   "title_sidebar": "Contents",
   "toc_cell": false,
   "toc_position": {},
   "toc_section_display": true,
   "toc_window_display": false
  }
 },
 "nbformat": 4,
 "nbformat_minor": 5
}
