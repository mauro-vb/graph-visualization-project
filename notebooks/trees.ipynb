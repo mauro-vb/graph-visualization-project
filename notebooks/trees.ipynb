{
 "cells": [
  {
   "cell_type": "code",
   "execution_count": 1,
   "id": "1681891c",
   "metadata": {},
   "outputs": [],
   "source": [
    "import matplotlib.pyplot as plt"
   ]
  },
  {
   "cell_type": "code",
   "execution_count": 3,
   "id": "0bce5c1f",
   "metadata": {},
   "outputs": [
    {
     "data": {
      "image/png": "[encoded data removed]",
      "text/plain": [
       "<Figure size 640x480 with 1 Axes>"
      ]
     },
     "metadata": {},
     "output_type": "display_data"
    }
   ],
   "source": [
    "plt.grid(visible=None, which='major', axis='both')\n",
    "plt.show()"
   ]
  },
  {
   "cell_type": "code",
   "execution_count": 6,
   "id": "3a2ceaff",
   "metadata": {},
   "outputs": [
    {
     "name": "stdout",
     "output_type": "stream",
     "text": [
      "Following is the Breadth-First Search\n",
      "5 3 7 2 4 8 "
     ]
    }
   ],
   "source": [
    "graph = {\n",
    "  '5' : ['3','7'],\n",
    "  '3' : ['2', '4'],\n",
    "  '7' : ['8'],\n",
    "  '2' : ['5'],\n",
    "  '4' : ['8'],\n",
    "  '8' : []\n",
    "}\n",
    "\n",
    "visited = [] # List for visited nodes.\n",
    "queue = []     #Initialize a queue\n",
    "\n",
    "def bfs(visited, graph, node): #function for BFS\n",
    "    visited.append(node)\n",
    "    queue.append(node)\n",
    "\n",
    "    while queue:    \n",
    "        m = queue.pop(0) \n",
    "        print (m, end = \" \") \n",
    "\n",
    "        for neighbour in graph[m]:\n",
    "            if neighbour not in visited:\n",
    "                visited.append(neighbour)\n",
    "                queue.append(neighbour)\n",
    "\n",
    "# Driver Code\n",
    "print(\"Following is the Breadth-First Search\")\n",
    "bfs(visited, graph, '5')    # function calling"
   ]
  },
  {
   "cell_type": "code",
   "execution_count": 21,
   "id": "b1c12a38",
   "metadata": {},
   "outputs": [],
   "source": [
    "def bfs(g, start):\n",
    "    \n",
    "    visited = set()  # for storing visited nodes\n",
    "    parent = {}  # for storing parent nodes\n",
    "    q = [start]  # for storing nodes to be visited\n",
    "    visited.add(start)  # mark the start node as visited\n",
    "\n",
    "    while q:  # while the queue Q is not empty, continue the traversal\n",
    "        current_node = q.pop(0)  # dequeue current node\n",
    "        for neighbor in g[current_node]:  # loop over neighbors of current node\n",
    "            \n",
    "            \n",
    "            if neighbor not in visited:  # if neighbor has not been visited\n",
    "                q.append(neighbor)  # enqueue neighbor\n",
    "                visited.add(neighbor)  # mark neighbor as visited\n",
    "                parent[neighbor] = current_node  # set current node as parent of neighbor\n",
    "\n",
    "    return parent  # return the tree structure\n",
    "\n",
    "\n",
    "                \n",
    "                "
   ]
  },
  {
   "cell_type": "code",
   "execution_count": 22,
   "id": "b26572d6",
   "metadata": {},
   "outputs": [
    {
     "ename": "TypeError",
     "evalue": "unhashable type: 'list'",
     "output_type": "error",
     "traceback": [
      "\u001b[0;31m---------------------------------------------------------------------------\u001b[0m",
      "\u001b[0;31mTypeError\u001b[0m                                 Traceback (most recent call last)",
      "Cell \u001b[0;32mIn [22], line 1\u001b[0m\n\u001b[0;32m----> 1\u001b[0m bfs(graph, graph[\u001b[38;5;124m'\u001b[39m\u001b[38;5;124m2\u001b[39m\u001b[38;5;124m'\u001b[39m])\n",
      "Cell \u001b[0;32mIn [21], line 6\u001b[0m, in \u001b[0;36mbfs\u001b[0;34m(g, start)\u001b[0m\n\u001b[1;32m      4\u001b[0m parent \u001b[38;5;241m=\u001b[39m {}  \u001b[38;5;66;03m# for storing parent nodes\u001b[39;00m\n\u001b[1;32m      5\u001b[0m q \u001b[38;5;241m=\u001b[39m [start]  \u001b[38;5;66;03m# for storing nodes to be visited\u001b[39;00m\n\u001b[0;32m----> 6\u001b[0m \u001b[43mvisited\u001b[49m\u001b[38;5;241;43m.\u001b[39;49m\u001b[43madd\u001b[49m\u001b[43m(\u001b[49m\u001b[43mstart\u001b[49m\u001b[43m)\u001b[49m  \u001b[38;5;66;03m# mark the start node as visited\u001b[39;00m\n\u001b[1;32m      7\u001b[0m \u001b[38;5;28mprint\u001b[39m (g[q\u001b[38;5;241m.\u001b[39mpop(\u001b[38;5;241m0\u001b[39m)])\n\u001b[1;32m      8\u001b[0m \u001b[38;5;28;01mwhile\u001b[39;00m q:  \u001b[38;5;66;03m# while the queue Q is not empty, continue the traversal\u001b[39;00m\n",
      "\u001b[0;31mTypeError\u001b[0m: unhashable type: 'list'"
     ]
    }
   ],
   "source": [
    "bfs(graph, graph['2'])"
   ]
  },
  {
   "cell_type": "code",
   "execution_count": null,
   "id": "31956e00",
   "metadata": {},
   "outputs": [],
   "source": []
  }
 ],
 "metadata": {
  "kernelspec": {
   "display_name": "Python 3 (ipykernel)",
   "language": "python",
   "name": "python3"
  },
  "language_info": {
   "codemirror_mode": {
    "name": "ipython",
    "version": 3
   },
   "file_extension": ".py",
   "mimetype": "text/x-python",
   "name": "python",
   "nbconvert_exporter": "python",
   "pygments_lexer": "ipython3",
   "version": "3.10.6"
  },
  "toc": {
   "base_numbering": 1,
   "nav_menu": {},
   "number_sections": true,
   "sideBar": true,
   "skip_h1_title": false,
   "title_cell": "Table of Contents",
   "title_sidebar": "Contents",
   "toc_cell": false,
   "toc_position": {},
   "toc_section_display": true,
   "toc_window_display": false
  }
 },
 "nbformat": 4,
 "nbformat_minor": 5
}
