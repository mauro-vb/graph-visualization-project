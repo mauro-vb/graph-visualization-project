{
 "cells": [
  {
   "cell_type": "code",
   "execution_count": 1,
   "id": "1681891c",
   "metadata": {},
   "outputs": [],
   "source": [
    "import matplotlib.pyplot as plt"
   ]
  },
  {
   "cell_type": "code",
   "execution_count": 2,
   "id": "0bce5c1f",
   "metadata": {},
   "outputs": [
    {
     "data": {
      "image/png": "[encoded data removed]",
      "text/plain": [
       "<Figure size 640x480 with 1 Axes>"
      ]
     },
     "metadata": {},
     "output_type": "display_data"
    }
   ],
   "source": [
    "plt.grid(visible=None, which='major', axis='both')\n",
    "plt.show()"
   ]
  },
  {
   "cell_type": "code",
   "execution_count": 19,
   "id": "b1c12a38",
   "metadata": {},
   "outputs": [],
   "source": [
    "def compute_bfs_tree(nodes, root):\n",
    "    \n",
    "    visited = set()  # for storing visited nodes\n",
    "    parent = {}  # for storing parent nodes\n",
    "    q = [start]  # for storing nodes to be visited\n",
    "    visited.add(root)  # mark the start node as visited\n",
    "\n",
    "    while q:  # while the queue Q is not empty, continue the traversal\n",
    "        current_node = q.pop(0)  # dequeue current node\n",
    "        for neighbor in g[current_node]:  # loop over neighbors of current node\n",
    "            \n",
    "            \n",
    "            if neighbor not in visited:  # if neighbor has not been visited\n",
    "                q.append(neighbor)  # enqueue neighbor\n",
    "                visited.add(neighbor)  # mark neighbor as visited\n",
    "                parent[neighbor] = current_node  # set current node as parent of neighbor\n",
    "\n",
    "    return parent  # return the tree structure\n",
    "\n",
    "\n",
    "def compute_dfs_tree(nodes, root):\n",
    "    visited = set()  # for storing visited nodes\n",
    "    parent = {}\n",
    "    \n",
    "    def dfs(g, root):\n",
    "        if root not in visited:\n",
    "            visited.add(root)\n",
    "            for n in g[root]: \n",
    "                parent[n] = root # set 'root' as parent\n",
    "                dfs(g, n) # recursive call to go into depth for each neighboring node\n",
    "                \n",
    "    dfs(g,root)\n",
    "                \n",
    "    return parent"
   ]
  },
  {
   "cell_type": "code",
   "execution_count": 20,
   "id": "b26572d6",
   "metadata": {},
   "outputs": [
    {
     "data": {
      "text/plain": [
       "{'3': '5', '2': '3', '5': '2', '4': '3', '8': '7', '7': '5'}"
      ]
     },
     "execution_count": 20,
     "metadata": {},
     "output_type": "execute_result"
    }
   ],
   "source": [
    "compute_dfs_tree(graph, '5')"
   ]
  },
  {
   "cell_type": "markdown",
   "id": "cd7d8f75",
   "metadata": {},
   "source": [
    "One standard way to get a BFS tree from a graph is to run BFS and, as you do so, keep a table mapping each node in the graph to its parent in the tree. You populate it as follows: the source node has no parent (it's the root, after all). Then, whenever you're processing a node u and explore one of its unexplored neighbors v, you set v's parent to be u. Try tracing this out on some small examples and you'll see that this implicitly builds up the tree, except with the edges going backwards (edges point from children up to parents rather than the other way around). You can then just reverse the edges to get back the BFS tree."
   ]
  },
  {
   "cell_type": "code",
   "execution_count": null,
   "id": "3b3e6bef",
   "metadata": {},
   "outputs": [],
   "source": []
  }
 ],
 "metadata": {
  "kernelspec": {
   "display_name": "Python 3 (ipykernel)",
   "language": "python",
   "name": "python3"
  },
  "language_info": {
   "codemirror_mode": {
    "name": "ipython",
    "version": 3
   },
   "file_extension": ".py",
   "mimetype": "text/x-python",
   "name": "python",
   "nbconvert_exporter": "python",
   "pygments_lexer": "ipython3",
   "version": "3.10.6"
  },
  "toc": {
   "base_numbering": 1,
   "nav_menu": {},
   "number_sections": true,
   "sideBar": true,
   "skip_h1_title": false,
   "title_cell": "Table of Contents",
   "title_sidebar": "Contents",
   "toc_cell": false,
   "toc_position": {},
   "toc_section_display": true,
   "toc_window_display": false
  }
 },
 "nbformat": 4,
 "nbformat_minor": 5
}
